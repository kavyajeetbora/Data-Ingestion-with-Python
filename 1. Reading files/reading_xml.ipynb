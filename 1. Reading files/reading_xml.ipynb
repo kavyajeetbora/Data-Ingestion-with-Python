{
 "cells": [
  {
   "cell_type": "markdown",
   "metadata": {},
   "source": [
    "# Reading `xml` files\n",
    "\n",
    "There are two ways of reading `xml` files\n",
    "- DOM - Document Object Model: Loading everything into memory\n",
    "- SAX - Simple API for XML: iterative (good for big files)\n",
    "\n",
    "There are 2 standard libraries for reading xml:\n",
    "1. ElementTree - in the standard library\n",
    "2. lxml - third party"
   ]
  },
  {
   "cell_type": "code",
   "execution_count": null,
   "metadata": {},
   "outputs": [],
   "source": [
    " "
   ]
  }
 ],
 "metadata": {
  "language_info": {
   "name": "python"
  },
  "orig_nbformat": 4
 },
 "nbformat": 4,
 "nbformat_minor": 2
}
